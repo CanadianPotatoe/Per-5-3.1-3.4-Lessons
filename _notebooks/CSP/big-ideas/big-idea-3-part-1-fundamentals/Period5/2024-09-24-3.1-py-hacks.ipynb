{
 "cells": [
  {
   "cell_type": "raw",
   "metadata": {
    "vscode": {
     "languageId": "raw"
    }
   },
   "source": [
    "---\n",
    "toc: false\n",
    "comments: true\n",
    "layout: post\n",
    "title: Python Variables Popcorn Hacks\n",
    "description: 3.1 Python popcorn hacks\n",
<<<<<<< HEAD:_notebooks/CSP/big-ideas/big-idea-3-part-1-fundamentals/Period5/aaak/2024-09-24-3.1-py-hacks.ipynb
    "permalink: csp/big-idea/3.1/p5/py/hacks\n",
=======
    "permalink: /csp/big-idea/3.1/p5/py/hacks\n",
    "submenu: lesson3_1\n",
>>>>>>> a01a3189b30eab86a4a88b7fa2c860c2dd51edec:_notebooks/CSP/big-ideas/big-idea-3-part-1-fundamentals/Period5/2024-09-24-3.1-py-hacks.ipynb
    "categories: [CSP Big Ideas]\n",
    "author: Aadi, Aaditya, Aditya, Kanhay\n",
    "menu: nav/csp_units/csp_unit3_p5_fundamentals.html\n",
    "---"
   ]
  },
  {
   "cell_type": "markdown",
   "metadata": {
    "vscode": {
     "languageId": "raw"
    }
   },
   "source": [
    "### Popcorn Hack #1: Try making your own set of 3 variables.\n",
    "\n",
    "Example:"
   ]
  },
  {
   "cell_type": "code",
   "execution_count": null,
   "metadata": {},
   "outputs": [],
   "source": [
    "a = 20\n",
    "favorite_subject = \"CSP\"\n",
    "favorite_sport = \"Basketball\""
   ]
  },
  {
   "cell_type": "markdown",
   "metadata": {},
   "source": [
    "### Popcorn Hack #2: Now make two boolean variables.\n",
    "\n",
    "Example:"
   ]
  },
  {
   "cell_type": "code",
   "execution_count": 1,
   "metadata": {},
   "outputs": [
    {
     "name": "stdout",
     "output_type": "stream",
     "text": [
      "True\n",
      "False\n"
     ]
    }
   ],
   "source": [
    "bool_1 = True\n",
    "bool_2 = False\n",
    "\n",
    "print(bool_1)\n",
    "print(bool_2)"
   ]
  },
  {
   "cell_type": "markdown",
   "metadata": {},
   "source": [
    "### Popcorn Hack #3: Create a Dictionary in python\n",
    "\n",
    "Example:"
   ]
  },
  {
   "cell_type": "code",
   "execution_count": 2,
   "metadata": {},
   "outputs": [
    {
     "name": "stdout",
     "output_type": "stream",
     "text": [
      "{'name': 'Bob', 'age': 30, 'sports': ['basketball', 'football']}\n"
     ]
    }
   ],
   "source": [
    "dictionary = {\n",
    "    'name': 'Bob',\n",
    "    'age': 30,\n",
    "    'sports': ['basketball', 'football']\n",
    "}\n",
    "\n",
    "print(dictionary)"
   ]
  }
 ],
 "metadata": {
  "kernelspec": {
   "display_name": "venv",
   "language": "python",
   "name": "python3"
  },
  "language_info": {
   "codemirror_mode": {
    "name": "ipython",
    "version": 3
   },
   "file_extension": ".py",
   "mimetype": "text/x-python",
   "name": "python",
   "nbconvert_exporter": "python",
   "pygments_lexer": "ipython3",
<<<<<<< HEAD:_notebooks/CSP/big-ideas/big-idea-3-part-1-fundamentals/Period5/aaak/2024-09-24-3.1-py-hacks.ipynb
   "version": "3.12.3"
=======
   "version": "3.12.6"
>>>>>>> a01a3189b30eab86a4a88b7fa2c860c2dd51edec:_notebooks/CSP/big-ideas/big-idea-3-part-1-fundamentals/Period5/2024-09-24-3.1-py-hacks.ipynb
  }
 },
 "nbformat": 4,
 "nbformat_minor": 2
}
